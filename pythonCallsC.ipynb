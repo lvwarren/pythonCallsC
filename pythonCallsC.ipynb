{
 "cells": [
  {
   "cell_type": "markdown",
   "metadata": {},
   "source": [
    "## Demonstration of Python Calling C Code\n",
    "\n",
    "L. Van Warren for Dr. C. Chiang <br>\n",
    "Wed Aug 28, CDT 2019\n"
   ]
  },
  {
   "cell_type": "code",
   "execution_count": 13,
   "metadata": {},
   "outputs": [
    {
     "name": "stdout",
     "output_type": "stream",
     "text": [
      "\r\n",
      "In this example we have a library of user provided 'C' code defined in:\r\n",
      "\r\n",
      "vmath_src.c\r\n",
      "vmath_src.h\r\n",
      "\r\n",
      "This gets munged by cython into a useable library callable from this notebook.\r\n",
      "\r\n",
      "Note: If you change these filenames by trimming the _src suffix, all hell breaks loose\r\n",
      "      because cython needs the namespace for its own vmath.c\r\n",
      "\r\n",
      "To prepare the library type the following into a bash shell:\r\n",
      "\r\n",
      "make clean\r\n",
      "\r\n",
      "make\r\n",
      "\r\n",
      "Then run the Jupyter notebook (pythonCallsC.ipynb) in the usual manner.\r\n",
      "\r\n",
      "You can also run the python file from bash:\r\n",
      "\r\n",
      "python pythonCallsC\r\n"
     ]
    }
   ],
   "source": [
    "!cat README.md"
   ]
  },
  {
   "cell_type": "code",
   "execution_count": 1,
   "metadata": {},
   "outputs": [],
   "source": [
    "import numpy as np\n",
    "import matplotlib.pyplot as plt\n",
    "import math\n",
    "import vmath"
   ]
  },
  {
   "cell_type": "code",
   "execution_count": 2,
   "metadata": {},
   "outputs": [
    {
     "name": "stdout",
     "output_type": "stream",
     "text": [
      "['Cos_', 'Sin_', 'Sqrt_', 'Tan_', '__builtins__', '__doc__', '__file__', '__loader__', '__name__', '__package__', '__spec__', '__test__', 'cos_', 'sin_', 'sqrt_', 'tan_']\n"
     ]
    }
   ],
   "source": [
    "print(dir(vmath))"
   ]
  },
  {
   "cell_type": "code",
   "execution_count": 3,
   "metadata": {},
   "outputs": [],
   "source": [
    "S = \\\n",
    "    [\n",
    "        \"vmath.sqrt_(    2    )\",\n",
    "        \"vmath.sin_ (    0    )\",\n",
    "        \"vmath.cos_ (    0    )\",\n",
    "        \"vmath.tan_ (    0    )\",\n",
    "        \"vmath.sin_ (math.pi/4)\",\n",
    "        \"vmath.cos_ (math.pi/4)\",\n",
    "        \"vmath.tan_ (math.pi/4)\",\n",
    "    ]"
   ]
  },
  {
   "cell_type": "code",
   "execution_count": 4,
   "metadata": {},
   "outputs": [],
   "source": [
    "length_of_longest_string = len(max(S, key=len))"
   ]
  },
  {
   "cell_type": "code",
   "execution_count": 5,
   "metadata": {},
   "outputs": [
    {
     "name": "stdout",
     "output_type": "stream",
     "text": [
      "22\n"
     ]
    }
   ],
   "source": [
    "print(length_of_longest_string)"
   ]
  },
  {
   "cell_type": "code",
   "execution_count": 6,
   "metadata": {},
   "outputs": [
    {
     "name": "stdout",
     "output_type": "stream",
     "text": [
      "vmath.sqrt_(    2    ): 1.414214\n",
      "vmath.sin_ (    0    ): 0.000000\n",
      "vmath.cos_ (    0    ): 1.000000\n",
      "vmath.tan_ (    0    ): 0.000000\n",
      "vmath.sin_ (math.pi/4): 0.707107\n",
      "vmath.cos_ (math.pi/4): 0.707107\n",
      "vmath.tan_ (math.pi/4): 1.000000\n"
     ]
    }
   ],
   "source": [
    "for item in S:\n",
    "    pad_string = \" \" * (length_of_longest_string - len(item))\n",
    "    print(item + pad_string + \":\" + format(eval(item), '9.6f'))"
   ]
  },
  {
   "cell_type": "code",
   "execution_count": 7,
   "metadata": {},
   "outputs": [
    {
     "name": "stdout",
     "output_type": "stream",
     "text": [
      "2.0\n"
     ]
    }
   ],
   "source": [
    "print(vmath.sqrt_(4))"
   ]
  },
  {
   "cell_type": "code",
   "execution_count": 8,
   "metadata": {},
   "outputs": [],
   "source": [
    "x = np.arange(-1, 10, 0.001)\n",
    "y = np.empty_like(x)\n",
    "vmath.Sqrt_(x, y)"
   ]
  },
  {
   "cell_type": "code",
   "execution_count": 9,
   "metadata": {},
   "outputs": [
    {
     "data": {
      "image/png": "[encoded data removed]",
      "text/plain": [
       "<Figure size 432x288 with 1 Axes>"
      ]
     },
     "metadata": {
      "needs_background": "light"
     },
     "output_type": "display_data"
    }
   ],
   "source": [
    "plt.xlim(-1, 10)\n",
    "plt.ylim(-1, 10)\n",
    "plt.plot(x, y)\n",
    "plt.show()"
   ]
  },
  {
   "cell_type": "code",
   "execution_count": 10,
   "metadata": {},
   "outputs": [
    {
     "data": {
      "image/png": "[encoded data removed]",
      "text/plain": [
       "<Figure size 432x288 with 1 Axes>"
      ]
     },
     "metadata": {
      "needs_background": "light"
     },
     "output_type": "display_data"
    }
   ],
   "source": [
    "x = np.arange(0, 2 * np.pi, 0.001)\n",
    "y = np.empty_like(x)\n",
    "vmath.Sin_(x, y)\n",
    "\n",
    "plt.xlim(0, 2*math.pi)\n",
    "plt.ylim(-math.pi, math.pi)\n",
    "plt.plot(x, y)\n",
    "plt.show()"
   ]
  },
  {
   "cell_type": "code",
   "execution_count": 11,
   "metadata": {},
   "outputs": [
    {
     "data": {
      "image/png": "[encoded data removed]",
      "text/plain": [
       "<Figure size 432x288 with 1 Axes>"
      ]
     },
     "metadata": {
      "needs_background": "light"
     },
     "output_type": "display_data"
    }
   ],
   "source": [
    "x = np.arange(0, 2 * np.pi, 0.001)\n",
    "y = np.empty_like(x)\n",
    "vmath.Cos_(x, y)\n",
    "\n",
    "plt.xlim(0, 2*math.pi)\n",
    "plt.ylim(-math.pi, math.pi)\n",
    "plt.plot(x, y)\n",
    "plt.show()"
   ]
  },
  {
   "cell_type": "code",
   "execution_count": 12,
   "metadata": {},
   "outputs": [
    {
     "data": {
      "image/png": "[encoded data removed]",
      "text/plain": [
       "<Figure size 432x288 with 1 Axes>"
      ]
     },
     "metadata": {
      "needs_background": "light"
     },
     "output_type": "display_data"
    }
   ],
   "source": [
    "x = np.arange(0, 2 * np.pi, 0.001)\n",
    "y = np.empty_like(x)\n",
    "vmath.Tan_(x, y)\n",
    "\n",
    "plt.xlim(0, 2*math.pi)\n",
    "plt.ylim(-math.pi, math.pi)\n",
    "plt.plot(x, y)\n",
    "plt.show()"
   ]
  },
  {
   "cell_type": "code",
   "execution_count": null,
   "metadata": {},
   "outputs": [],
   "source": []
  },
  {
   "cell_type": "code",
   "execution_count": null,
   "metadata": {},
   "outputs": [],
   "source": []
  }
 ],
 "metadata": {
  "kernelspec": {
   "display_name": "Python 3",
   "language": "python",
   "name": "python3"
  },
  "language_info": {
   "codemirror_mode": {
    "name": "ipython",
    "version": 3
   },
   "file_extension": ".py",
   "mimetype": "text/x-python",
   "name": "python",
   "nbconvert_exporter": "python",
   "pygments_lexer": "ipython3",
   "version": "3.7.3"
  }
 },
 "nbformat": 4,
 "nbformat_minor": 2
}
